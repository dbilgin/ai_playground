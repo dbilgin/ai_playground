{
 "cells": [
  {
   "cell_type": "markdown",
   "metadata": {},
   "source": [
    "# 🖼️ Text Classification Playground  \n",
    "Text classification with distilbert trained on `rotten_tomatoes` dataset.\n",
    "\n",
    "1. **Run the first cell** to install requirements.  \n",
    "2. Switch the runtime to **GPU**. If running on Colab Runtime → Change runtime type → T4 GPU.\n",
    "3. Enter a prompt to test the trained model.\n",
    "\n",
    "> Model: *[Custom Distilbert Rotten Tomatoes](https://huggingface.co/dbilgin/distilbert-rotten-tomatoes)*."
   ]
  },
  {
   "cell_type": "code",
   "execution_count": null,
   "metadata": {},
   "outputs": [],
   "source": [
    "%pip install -q -r https://raw.githubusercontent.com/dbilgin/ai_playground/refs/heads/master/requirements.txt"
   ]
  },
  {
   "cell_type": "code",
   "execution_count": null,
   "metadata": {},
   "outputs": [],
   "source": [
    "import gradio as gr\n",
    "from transformers.pipelines import pipeline\n",
    "\n",
    "gen = pipeline(\n",
    "    \"text-classification\",\n",
    "    model=\"dbilgin/distilbert-rotten-tomatoes\",\n",
    "    model_kwargs={\n",
    "        \"load_in_4bit\": True,\n",
    "        \"device_map\": {\"\": 0},\n",
    "        \"max_memory\": {0: \"10GiB\", \"cpu\": \"32GiB\"},\n",
    "        \"torch_dtype\": \"auto\"\n",
    "    }\n",
    ")\n",
    "\n",
    "def predict_sentiment(text):\n",
    "    result = gen(text)[0]\n",
    "    return f\"Label: {result['label']}, Score: {result['score']:.4f}\"\n",
    "\n",
    "gr.Interface(\n",
    "    fn=predict_sentiment,\n",
    "    inputs=gr.Textbox(label=\"Enter movie review\", placeholder=\"This movie was amazing!\"),\n",
    "    outputs=gr.Textbox(label=\"Sentiment Analysis Result\"),\n",
    "    title=\"Rotten Tomatoes Sentiment Analysis\"\n",
    ").launch()"
   ]
  },
  {
   "cell_type": "markdown",
   "metadata": {},
   "source": [
    "# Train\n",
    "\n",
    "- Run the below cell to train the [distilbert-base-uncased](https://huggingface.co/distilbert/distilbert-base-uncased) model on rotten_tomatoes data.\n",
    "- Uncomment `trainer.push_to_hub()` if you would like to upload the result to Hugging Face."
   ]
  },
  {
   "cell_type": "code",
   "execution_count": null,
   "metadata": {},
   "outputs": [],
   "source": [
    "from transformers import AutoModelForSequenceClassification, AutoTokenizer\n",
    "from datasets import load_dataset, DatasetDict\n",
    "from transformers.data.data_collator import DataCollatorWithPadding\n",
    "from transformers.training_args import TrainingArguments\n",
    "from transformers.trainer import Trainer\n",
    "\n",
    "model_name = \"distilbert/distilbert-base-uncased\"\n",
    "model = AutoModelForSequenceClassification.from_pretrained(model_name)\n",
    "tokenizer = AutoTokenizer.from_pretrained(model_name)\n",
    "dataset = load_dataset(\"rotten_tomatoes\")\n",
    "\n",
    "def tokenize_dataset(dataset):\n",
    "    return tokenizer(dataset[\"text\"])\n",
    "dataset = dataset.map(tokenize_dataset, batched=True)\n",
    "\n",
    "data_collator = DataCollatorWithPadding(tokenizer=tokenizer)\n",
    "\n",
    "training_args = TrainingArguments(\n",
    "    output_dir=\"trained_models/distilbert-rotten-tomatoes\",\n",
    "    learning_rate=2e-5,\n",
    "    per_device_train_batch_size=8,\n",
    "    per_device_eval_batch_size=8,\n",
    "    num_train_epochs=2,\n",
    "    push_to_hub=False, # Enable to push to hub\n",
    ")\n",
    "\n",
    "if not isinstance(dataset, DatasetDict):\n",
    "    raise ValueError(\"Dataset must be a DatasetDict\")\n",
    "\n",
    "trainer = Trainer(\n",
    "    model=model,\n",
    "    args=training_args,\n",
    "    train_dataset=dataset[\"train\"],\n",
    "    eval_dataset=dataset[\"test\"],\n",
    "    tokenizer=tokenizer,\n",
    "    data_collator=data_collator,\n",
    ")\n",
    "\n",
    "trainer.train()\n",
    "\n",
    "# Enable to push to hub\n",
    "# trainer.push_to_hub()\n"
   ]
  }
 ],
 "metadata": {
  "kernelspec": {
   "display_name": ".env",
   "language": "python",
   "name": "python3"
  },
  "language_info": {
   "codemirror_mode": {
    "name": "ipython",
    "version": 3
   },
   "file_extension": ".py",
   "mimetype": "text/x-python",
   "name": "python",
   "nbconvert_exporter": "python",
   "pygments_lexer": "ipython3",
   "version": "3.12.3"
  }
 },
 "nbformat": 4,
 "nbformat_minor": 2
}
