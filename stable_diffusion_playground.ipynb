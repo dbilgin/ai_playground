{
 "cells": [
  {
   "cell_type": "markdown",
   "metadata": {},
   "source": [
    "# 🖼️ Stable-Diffusion Playground  \n",
    "Generate images right inside Colab.\n",
    "\n",
    "1. **Run the first cell** to install requirements.  \n",
    "2. Switch the runtime to **GPU**. If running on Colab Runtime → Change runtime type → T4 GPU.\n",
    "3. Enter a prompt, tweak *Steps* (detail) and *CFG* (creativity), then click **Generate**.\n",
    "\n",
    "> Model: *[Stable-Diffusion v1.5](https://huggingface.co/stable-diffusion-v1-5/stable-diffusion-v1-5)*."
   ]
  },
  {
   "cell_type": "code",
   "execution_count": null,
   "metadata": {},
   "outputs": [],
   "source": [
    "%pip install -q -r https://raw.githubusercontent.com/dbilgin/ai_playground/refs/heads/master/requirements.txt"
   ]
  },
  {
   "cell_type": "code",
   "execution_count": null,
   "metadata": {
    "id": "P3Ciok7bQFfK"
   },
   "outputs": [],
   "source": [
    "import torch, gradio as gr\n",
    "from diffusers.pipelines.stable_diffusion.pipeline_stable_diffusion import StableDiffusionPipeline\n",
    "\n",
    "MODEL = \"stable-diffusion-v1-5/stable-diffusion-v1-5\"\n",
    "pipe  = StableDiffusionPipeline.from_pretrained(\n",
    "            MODEL, torch_dtype=torch.float16\n",
    "        ).to(\"cuda\" if torch.cuda.is_available() else \"cpu\")\n",
    "\n",
    "def generate(prompt, steps, cfg):\n",
    "    with torch.autocast(pipe.device.type):\n",
    "        image = pipe(prompt, num_inference_steps=steps, guidance_scale=cfg).images[0]\n",
    "    return image\n",
    "\n",
    "demo = gr.Interface(\n",
    "    fn=generate,\n",
    "    inputs=[\n",
    "        gr.Textbox(\"A cozy cabin in the snowy woods at dusk\", label=\"Prompt\"),\n",
    "        gr.Slider(10, 50, 30, step=1, label=\"Steps\"),\n",
    "        gr.Slider(1, 15, 7.5, step=0.5, label=\"CFG scale\"),\n",
    "    ],\n",
    "    outputs=gr.Image(),\n",
    "    title=\"Stable Diffusion Generator\",\n",
    ")\n",
    "\n",
    "if __name__ == \"__main__\":\n",
    "    demo.launch(debug=True, share=False)\n"
   ]
  }
 ],
 "metadata": {
  "colab": {
   "authorship_tag": "ABX9TyNByBtf+XhZ3ciAdKIQd/1x",
   "provenance": []
  },
  "kernelspec": {
   "display_name": ".env",
   "language": "python",
   "name": "python3"
  },
  "language_info": {
   "codemirror_mode": {
    "name": "ipython",
    "version": 3
   },
   "file_extension": ".py",
   "mimetype": "text/x-python",
   "name": "python",
   "nbconvert_exporter": "python",
   "pygments_lexer": "ipython3",
   "version": "3.12.3"
  }
 },
 "nbformat": 4,
 "nbformat_minor": 0
}
